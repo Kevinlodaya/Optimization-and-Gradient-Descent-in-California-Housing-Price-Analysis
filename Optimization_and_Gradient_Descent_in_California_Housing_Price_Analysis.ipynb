{
  "nbformat": 4,
  "nbformat_minor": 0,
  "metadata": {
    "colab": {
      "provenance": [],
      "authorship_tag": "ABX9TyO4/XCjWX80pGabOyu18EQc",
      "include_colab_link": true
    },
    "kernelspec": {
      "name": "python3",
      "display_name": "Python 3"
    },
    "language_info": {
      "name": "python"
    }
  },
  "cells": [
    {
      "cell_type": "markdown",
      "metadata": {
        "id": "view-in-github",
        "colab_type": "text"
      },
      "source": [
        "<a href=\"https://colab.research.google.com/github/Kevinlodaya/Optimization-and-Gradient-Descent-in-California-Housing-Price-Analysis/blob/main/Optimization_and_Gradient_Descent_in_California_Housing_Price_Analysis.ipynb\" target=\"_parent\"><img src=\"https://colab.research.google.com/assets/colab-badge.svg\" alt=\"Open In Colab\"/></a>"
      ]
    },
    {
      "cell_type": "code",
      "execution_count": null,
      "metadata": {
        "id": "GaVgZcW_lp59"
      },
      "outputs": [],
      "source": []
    }
  ]
}